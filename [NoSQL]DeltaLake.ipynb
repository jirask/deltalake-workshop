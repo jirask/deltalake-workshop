{
  "nbformat": 4,
  "nbformat_minor": 0,
  "metadata": {
    "colab": {
      "provenance": []
    },
    "kernelspec": {
      "name": "python3",
      "display_name": "Python 3"
    },
    "language_info": {
      "name": "python"
    }
  },
  "cells": [
    {
      "cell_type": "markdown",
      "source": [
        "Documentation\n",
        "\n",
        "* Delta https://docs.delta.io/0.4.0/delta-intro.html\n",
        "* API Reference https://docs.delta.io/0.4.0/api/python/index.html\n",
        "\n",
        "\n",
        "\n",
        "\n",
        "\n",
        "\n",
        "\n",
        "\n"
      ],
      "metadata": {
        "id": "GpI9l0JZYRdh"
      }
    },
    {
      "cell_type": "markdown",
      "source": [
        "## Prerequisite"
      ],
      "metadata": {
        "id": "csSU_SanYPJQ"
      }
    },
    {
      "cell_type": "code",
      "source": [
        "!pip list|grep pyspark"
      ],
      "metadata": {
        "id": "IEGKIvxWrqhF"
      },
      "execution_count": null,
      "outputs": []
    },
    {
      "cell_type": "code",
      "execution_count": null,
      "metadata": {
        "id": "mW_DrY7ZlUj_",
        "colab": {
          "base_uri": "https://localhost:8080/"
        },
        "outputId": "86525125-9004-4345-ea4e-2d2607e72f63"
      },
      "outputs": [
        {
          "output_type": "stream",
          "name": "stdout",
          "text": [
            "\u001b[2K     \u001b[90m━━━━━━━━━━━━━━━━━━━━━━━━━━━━━━━━━━━━━━━\u001b[0m \u001b[32m310.8/310.8 MB\u001b[0m \u001b[31m3.4 MB/s\u001b[0m eta \u001b[36m0:00:00\u001b[0m\n",
            "\u001b[?25h  Preparing metadata (setup.py) ... \u001b[?25l\u001b[?25hdone\n",
            "  Building wheel for pyspark (setup.py) ... \u001b[?25l\u001b[?25hdone\n"
          ]
        }
      ],
      "source": [
        "!pip install --upgrade -q pyspark"
      ]
    },
    {
      "cell_type": "code",
      "source": [
        "!pip list|grep delta-spark"
      ],
      "metadata": {
        "id": "0boIMIQdCJ1V"
      },
      "execution_count": null,
      "outputs": []
    },
    {
      "cell_type": "code",
      "source": [
        "!pip install --upgrade -q delta-spark"
      ],
      "metadata": {
        "id": "_gTXq3KfqLjK"
      },
      "execution_count": null,
      "outputs": []
    },
    {
      "cell_type": "code",
      "source": [
        "from pyspark import SparkConf\n",
        "from pyspark.context import SparkContext\n",
        "from pyspark.sql import SparkSession\n",
        "\n",
        "local = \"local[*]\"\n",
        "appName = \"DeltaLake\"\n",
        "localConfig = SparkConf().setAppName(appName).setMaster(local).\\\n",
        "  set(\"spark.executor.memory\", \"6G\").\\\n",
        "  set(\"spark.driver.memory\",\"6G\").\\\n",
        "  set(\"spark.sql.catalogImplementation\",\"in-memory\").\\\n",
        "  set(\"spark.sql.extensions\",\"io.delta.sql.DeltaSparkSessionExtension\").\\\n",
        "  set(\"spark.sql.catalog.spark_catalog\",\"org.apache.spark.sql.delta.catalog.DeltaCatalog\").\\\n",
        "  set(\"spark.jars.packages\",\"io.delta:delta-core_2.12:2.4.0\").\\\n",
        "  set(\"spark.databricks.delta.schema.autoMerge.enabled\",\"true\")\n",
        "\n",
        "\n",
        "spark = SparkSession.builder.config(conf = localConfig).getOrCreate()\n",
        "sc = spark.sparkContext\n",
        "sc.setLogLevel(\"ERROR\")"
      ],
      "metadata": {
        "id": "ZGcYc-DKqpUi"
      },
      "execution_count": null,
      "outputs": []
    },
    {
      "cell_type": "markdown",
      "source": [
        "### imports"
      ],
      "metadata": {
        "id": "NsDqSpCyp5gJ"
      }
    },
    {
      "cell_type": "code",
      "source": [
        "from delta.tables import *\n",
        "from pyspark.sql.functions import *\n"
      ],
      "metadata": {
        "id": "Mu3bInuxp7PY"
      },
      "execution_count": null,
      "outputs": []
    },
    {
      "cell_type": "code",
      "source": [
        "import pandas as pd"
      ],
      "metadata": {
        "id": "0SfUWEbEoK21"
      },
      "execution_count": null,
      "outputs": []
    },
    {
      "cell_type": "markdown",
      "source": [
        "### data loading"
      ],
      "metadata": {
        "id": "zk5khR9NcKK5"
      }
    },
    {
      "cell_type": "code",
      "source": [
        "! wget https://nuage.lip6.fr/s/BbQ9rzGHKJexKYp/download/sales.tar -O /tmp/sales.tar"
      ],
      "metadata": {
        "id": "qoPhe7AGcNiL",
        "colab": {
          "base_uri": "https://localhost:8080/"
        },
        "outputId": "a5f3e299-7950-47f3-ae64-8fe3d0fb9716"
      },
      "execution_count": null,
      "outputs": [
        {
          "output_type": "stream",
          "name": "stdout",
          "text": [
            "--2023-07-14 22:43:57--  https://nuage.lip6.fr/s/BbQ9rzGHKJexKYp/download/sales.tar\n",
            "Resolving nuage.lip6.fr (nuage.lip6.fr)... 132.227.201.11\n",
            "Connecting to nuage.lip6.fr (nuage.lip6.fr)|132.227.201.11|:443... connected.\n",
            "HTTP request sent, awaiting response... 200 OK\n",
            "Length: 548352 (536K) [application/x-tar]\n",
            "Saving to: ‘/tmp/sales.tar’\n",
            "\n",
            "/tmp/sales.tar      100%[===================>] 535.50K  1.16MB/s    in 0.5s    \n",
            "\n",
            "2023-07-14 22:43:58 (1.16 MB/s) - ‘/tmp/sales.tar’ saved [548352/548352]\n",
            "\n"
          ]
        }
      ]
    },
    {
      "cell_type": "code",
      "source": [
        "! tar xvf /tmp/sales.tar -C /tmp"
      ],
      "metadata": {
        "id": "NByLaShhcP5E",
        "colab": {
          "base_uri": "https://localhost:8080/"
        },
        "outputId": "d9942ed6-d1a1-4bc8-d5bf-80286416bb20"
      },
      "execution_count": null,
      "outputs": [
        {
          "output_type": "stream",
          "name": "stdout",
          "text": [
            "sales/\n",
            "sales/._salesOriginal.csv\n",
            "sales/salesOriginal.csv\n",
            "sales/march23_sales.csv\n"
          ]
        }
      ]
    },
    {
      "cell_type": "code",
      "source": [
        "!ls /tmp/sales"
      ],
      "metadata": {
        "id": "768xXkplcasK",
        "colab": {
          "base_uri": "https://localhost:8080/"
        },
        "outputId": "a9bedd92-5bc8-4112-ddf3-9fb6a8ae446d"
      },
      "execution_count": null,
      "outputs": [
        {
          "output_type": "stream",
          "name": "stdout",
          "text": [
            "march23_sales.csv  salesOriginal.csv\n"
          ]
        }
      ]
    },
    {
      "cell_type": "markdown",
      "source": [
        "## Questions"
      ],
      "metadata": {
        "id": "x9gSC88rA_xp"
      }
    },
    {
      "cell_type": "markdown",
      "source": [
        "### Table creation\n"
      ],
      "metadata": {
        "id": "kAxmycWCbWx5"
      }
    },
    {
      "cell_type": "markdown",
      "source": [
        "#### sales table\n",
        "create a delta table `default.sales` with the following schema (saleid : String, saledate : Timestamp, productid: String, quantity : int, shopid : string)"
      ],
      "metadata": {
        "id": "DC6bTLkHexcv"
      }
    },
    {
      "cell_type": "code",
      "source": [
        "DeltaTable.createOrReplace(spark) \\\n",
        "  .tableName(\"default.sales\") \\\n",
        "  .addColumn(\"saleid\", \"STRING\") \\\n",
        "  .addColumn(\"saledate\", \"TIMESTAMP\") \\\n",
        "  .addColumn(\"productid\", \"STRING\") \\\n",
        "  .addColumn(\"quantity\", \"INT\") \\\n",
        "  .addColumn(\"shopid\", \"STRING\") \\\n",
        "  .execute()"
      ],
      "metadata": {
        "colab": {
          "base_uri": "https://localhost:8080/"
        },
        "id": "JR-k1dt1ZDL2",
        "outputId": "5840500c-a246-4c49-f97a-27abc6842755"
      },
      "execution_count": null,
      "outputs": [
        {
          "output_type": "execute_result",
          "data": {
            "text/plain": [
              "<delta.tables.DeltaTable at 0x7ca2d8bf2110>"
            ]
          },
          "metadata": {},
          "execution_count": 11
        }
      ]
    },
    {
      "cell_type": "code",
      "source": [
        "spark.sql(\"\"\" DESCRIBE default.sales \"\"\").show()"
      ],
      "metadata": {
        "id": "SSMkvQwRaBEl",
        "colab": {
          "base_uri": "https://localhost:8080/"
        },
        "outputId": "b5e280c5-256f-4c29-d965-94c545c46093"
      },
      "execution_count": null,
      "outputs": [
        {
          "output_type": "stream",
          "name": "stdout",
          "text": [
            "+---------+---------+-------+\n",
            "| col_name|data_type|comment|\n",
            "+---------+---------+-------+\n",
            "|   saleid|   string|   null|\n",
            "| saledate|timestamp|   null|\n",
            "|productid|   string|   null|\n",
            "| quantity|      int|   null|\n",
            "|   shopid|   string|   null|\n",
            "+---------+---------+-------+\n",
            "\n"
          ]
        }
      ]
    },
    {
      "cell_type": "markdown",
      "source": [
        "load the `/tmp/sales/march23_sales.csv` data into `default.sales` by selecting only the required columns"
      ],
      "metadata": {
        "id": "aek0sDT2b1b9"
      }
    },
    {
      "cell_type": "code",
      "source": [
        "df = spark.read.csv('/tmp/sales/salesOriginal.csv', header=True, inferSchema=True)\n",
        "df.show(5)"
      ],
      "metadata": {
        "id": "sdW9YbGFb_Lf",
        "colab": {
          "base_uri": "https://localhost:8080/"
        },
        "outputId": "85c0a052-10d5-43e5-ce49-f2b7caafab67"
      },
      "execution_count": null,
      "outputs": [
        {
          "output_type": "stream",
          "name": "stdout",
          "text": [
            "+----------+----------+--------+---------+------+-------------+----------+-------+--------+---------+---------+-----------+------+-------------+-----+-----+\n",
            "|    saleid|  saledate|quantity|unitprice|shopid|         city|     state|country|shopsize|productid| category|subcategory|  size|purchaseprice|color|brand|\n",
            "+----------+----------+--------+---------+------+-------------+----------+-------+--------+---------+---------+-----------+------+-------------+-----+-----+\n",
            "|S000000124|2023-02-26|     2.0|     60.0|shop_4|San Francisco|California|    USA|   small|    CHA_2|Furniture|      Chair|  null|         48.0| blue|Basic|\n",
            "|S000000125|2023-02-25|     1.0|    150.0|shop_5|      Houston|     Texas|    USA|   small|    BED_3|Furniture|        Bed|Single|        127.0|  red| Mega|\n",
            "|S000000126|2023-02-24|     1.0|    300.0|shop_6|  San Antonio|     Texas|    USA|   small|    BED_4|Furniture|        Bed|Double|        252.0|brown|Basic|\n",
            "|S000000127|2023-02-23|     1.0|    395.0|shop_7|      Chicago|  Illinois|    USA|   small|    BED_5|Furniture|        Bed| Queen|        333.0|black| Mega|\n",
            "|S000000128|2023-02-22|     4.0|    440.0|shop_8|   Regensburg|   Bavaria|Germany|   small|    BED_6|Furniture|        Bed|  King|        375.0|white|Basic|\n",
            "+----------+----------+--------+---------+------+-------------+----------+-------+--------+---------+---------+-----------+------+-------------+-----+-----+\n",
            "only showing top 5 rows\n",
            "\n"
          ]
        }
      ]
    },
    {
      "cell_type": "code",
      "source": [
        "df.printSchema()"
      ],
      "metadata": {
        "id": "HGTx95KeqqEr",
        "colab": {
          "base_uri": "https://localhost:8080/"
        },
        "outputId": "b60033d9-ade2-477a-eb6b-a4117164005d"
      },
      "execution_count": null,
      "outputs": [
        {
          "output_type": "stream",
          "name": "stdout",
          "text": [
            "root\n",
            " |-- saleid: string (nullable = true)\n",
            " |-- saledate: date (nullable = true)\n",
            " |-- quantity: double (nullable = true)\n",
            " |-- unitprice: double (nullable = true)\n",
            " |-- shopid: string (nullable = true)\n",
            " |-- city: string (nullable = true)\n",
            " |-- state: string (nullable = true)\n",
            " |-- country: string (nullable = true)\n",
            " |-- shopsize: string (nullable = true)\n",
            " |-- productid: string (nullable = true)\n",
            " |-- category: string (nullable = true)\n",
            " |-- subcategory: string (nullable = true)\n",
            " |-- size: string (nullable = true)\n",
            " |-- purchaseprice: double (nullable = true)\n",
            " |-- color: string (nullable = true)\n",
            " |-- brand: string (nullable = true)\n",
            "\n"
          ]
        }
      ]
    },
    {
      "cell_type": "code",
      "source": [
        "sales_with_correct_schema = df.withColumn('saledate',col(\"saledate\").cast(\"TIMESTAMP\"))\\\n",
        ".withColumn('quantity', col(\"quantity\").cast(\"int\") )\\\n",
        ".select(\"saleid\", \"saledate\",\"productid\",\"quantity\",\"shopid\")\n",
        "sales_with_correct_schema.show(10)"
      ],
      "metadata": {
        "id": "uL8DZp1CuBmL",
        "colab": {
          "base_uri": "https://localhost:8080/"
        },
        "outputId": "e4f8c9f5-2111-42e7-e745-ed53487a6c76"
      },
      "execution_count": null,
      "outputs": [
        {
          "output_type": "stream",
          "name": "stdout",
          "text": [
            "+----------+-------------------+---------+--------+-------+\n",
            "|    saleid|           saledate|productid|quantity| shopid|\n",
            "+----------+-------------------+---------+--------+-------+\n",
            "|S000000124|2023-02-26 00:00:00|    CHA_2|       2| shop_4|\n",
            "|S000000125|2023-02-25 00:00:00|    BED_3|       1| shop_5|\n",
            "|S000000126|2023-02-24 00:00:00|    BED_4|       1| shop_6|\n",
            "|S000000127|2023-02-23 00:00:00|    BED_5|       1| shop_7|\n",
            "|S000000128|2023-02-22 00:00:00|    BED_6|       4| shop_8|\n",
            "|S000000129|2023-02-21 00:00:00|    TSH_7|       1| shop_9|\n",
            "|S000000130|2023-02-20 00:00:00|    TSH_8|       1|shop_10|\n",
            "|S000000131|2023-02-19 00:00:00|    TSH_9|       1|shop_11|\n",
            "|S000000132|2023-02-18 00:00:00|   TSH_10|       2|shop_12|\n",
            "|S000000133|2023-02-17 00:00:00|   TSH_11|       1|shop_13|\n",
            "+----------+-------------------+---------+--------+-------+\n",
            "only showing top 10 rows\n",
            "\n"
          ]
        }
      ]
    },
    {
      "cell_type": "code",
      "source": [
        "sales_with_correct_schema\\\n",
        ".write\\\n",
        ".mode(\"overwrite\") \\\n",
        ".format(\"delta\")\\\n",
        ".option(\"mergeSchema\", \"true\").\\\n",
        "saveAsTable(\"default.sales\")"
      ],
      "metadata": {
        "id": "9mk9VSDGdFyZ"
      },
      "execution_count": null,
      "outputs": []
    },
    {
      "cell_type": "code",
      "source": [
        "spark.sql(\"\"\" select * from default.sales limit 10 \"\"\").show()"
      ],
      "metadata": {
        "id": "XFCXg3aU9n82",
        "colab": {
          "base_uri": "https://localhost:8080/"
        },
        "outputId": "12381925-208f-4d09-e19f-7ad181bc4a55"
      },
      "execution_count": null,
      "outputs": [
        {
          "output_type": "stream",
          "name": "stdout",
          "text": [
            "+----------+-------------------+---------+--------+-------+\n",
            "|    saleid|           saledate|productid|quantity| shopid|\n",
            "+----------+-------------------+---------+--------+-------+\n",
            "|S000000124|2023-02-26 00:00:00|    CHA_2|       2| shop_4|\n",
            "|S000000125|2023-02-25 00:00:00|    BED_3|       1| shop_5|\n",
            "|S000000126|2023-02-24 00:00:00|    BED_4|       1| shop_6|\n",
            "|S000000127|2023-02-23 00:00:00|    BED_5|       1| shop_7|\n",
            "|S000000128|2023-02-22 00:00:00|    BED_6|       4| shop_8|\n",
            "|S000000129|2023-02-21 00:00:00|    TSH_7|       1| shop_9|\n",
            "|S000000130|2023-02-20 00:00:00|    TSH_8|       1|shop_10|\n",
            "|S000000131|2023-02-19 00:00:00|    TSH_9|       1|shop_11|\n",
            "|S000000132|2023-02-18 00:00:00|   TSH_10|       2|shop_12|\n",
            "|S000000133|2023-02-17 00:00:00|   TSH_11|       1|shop_13|\n",
            "+----------+-------------------+---------+--------+-------+\n",
            "\n"
          ]
        }
      ]
    },
    {
      "cell_type": "code",
      "source": [
        "spark.sql(\"\"\" select count(*) from default.sales \"\"\").show()"
      ],
      "metadata": {
        "id": "Y0vZ9Z3Zjstu",
        "colab": {
          "base_uri": "https://localhost:8080/"
        },
        "outputId": "3fce89de-1e26-4a56-a8e6-eb121c944b9a"
      },
      "execution_count": null,
      "outputs": [
        {
          "output_type": "stream",
          "name": "stdout",
          "text": [
            "+--------+\n",
            "|count(1)|\n",
            "+--------+\n",
            "|    4916|\n",
            "+--------+\n",
            "\n"
          ]
        }
      ]
    },
    {
      "cell_type": "markdown",
      "source": [
        "#### dates table\n",
        "create a delta table `default.dates` with the following schema (saledate: timestamp, year: int, month: int) by ensuring that year and month are extracted from saledate"
      ],
      "metadata": {
        "id": "P2Y1pqcye1MU"
      }
    },
    {
      "cell_type": "code",
      "source": [
        "DeltaTable.createOrReplace(spark) \\\n",
        "  .tableName(\"default.dates\") \\\n",
        "  .addColumn(\"saledate\", \"TIMESTAMP\") \\\n",
        "  .addColumn(\"year\", \"INT\", generatedAlwaysAs=\"YEAR(saledate)\") \\\n",
        "  .addColumn(\"month\", \"INT\", generatedAlwaysAs=\"MONTH(saledate)\") \\\n",
        "  .execute()"
      ],
      "metadata": {
        "colab": {
          "base_uri": "https://localhost:8080/"
        },
        "id": "Zyx6pTOtBW4I",
        "outputId": "b8ee33e3-492f-4a9a-a6e6-df14a4434f2a"
      },
      "execution_count": null,
      "outputs": [
        {
          "output_type": "execute_result",
          "data": {
            "text/plain": [
              "<delta.tables.DeltaTable at 0x7ca314b4c6a0>"
            ]
          },
          "metadata": {},
          "execution_count": 19
        }
      ]
    },
    {
      "cell_type": "code",
      "source": [
        "spark.sql(\"\"\" DESCRIBE default.dates \"\"\").show()"
      ],
      "metadata": {
        "colab": {
          "base_uri": "https://localhost:8080/"
        },
        "id": "VJ-BXLvDCAGz",
        "outputId": "a470048c-208a-4ab8-cb1c-50b3fd7a60d7"
      },
      "execution_count": null,
      "outputs": [
        {
          "output_type": "stream",
          "name": "stdout",
          "text": [
            "+--------+---------+-------+\n",
            "|col_name|data_type|comment|\n",
            "+--------+---------+-------+\n",
            "|saledate|timestamp|   null|\n",
            "|    year|      int|   null|\n",
            "|   month|      int|   null|\n",
            "+--------+---------+-------+\n",
            "\n"
          ]
        }
      ]
    },
    {
      "cell_type": "markdown",
      "source": [
        "populate `default.dates` by inserting dates from `default.sales`"
      ],
      "metadata": {
        "id": "UEdvhyP4gDCr"
      }
    },
    {
      "cell_type": "code",
      "source": [
        "spark.sql(\"\"\" INSERT INTO default.dates SELECT distinct saledate, year(saledate), month(saledate) FROM default.sales \"\"\").show()"
      ],
      "metadata": {
        "colab": {
          "base_uri": "https://localhost:8080/"
        },
        "id": "rkFs6qqFF5rS",
        "outputId": "2d132fb9-9193-46d8-c234-3b525c7f192b"
      },
      "execution_count": null,
      "outputs": [
        {
          "output_type": "stream",
          "name": "stdout",
          "text": [
            "++\n",
            "||\n",
            "++\n",
            "++\n",
            "\n"
          ]
        }
      ]
    },
    {
      "cell_type": "code",
      "source": [
        "spark.sql(\"\"\" select * from default.dates limit 10 \"\"\").show()"
      ],
      "metadata": {
        "colab": {
          "base_uri": "https://localhost:8080/"
        },
        "id": "83MaUB2VFz6J",
        "outputId": "e98e8d6c-61c4-4e50-fd24-a7a26d7a8f5a"
      },
      "execution_count": null,
      "outputs": [
        {
          "output_type": "stream",
          "name": "stdout",
          "text": [
            "+-------------------+----+-----+\n",
            "|           saledate|year|month|\n",
            "+-------------------+----+-----+\n",
            "|2023-01-29 00:00:00|2023|    1|\n",
            "|2022-12-12 00:00:00|2022|   12|\n",
            "|2023-01-04 00:00:00|2023|    1|\n",
            "|2023-02-26 00:00:00|2023|    2|\n",
            "|2023-01-12 00:00:00|2023|    1|\n",
            "|2023-02-21 00:00:00|2023|    2|\n",
            "|2023-01-15 00:00:00|2023|    1|\n",
            "|2023-01-18 00:00:00|2023|    1|\n",
            "|2023-02-07 00:00:00|2023|    2|\n",
            "|2022-11-12 00:00:00|2022|   11|\n",
            "+-------------------+----+-----+\n",
            "\n"
          ]
        }
      ]
    },
    {
      "cell_type": "code",
      "source": [
        "spark.sql(\"\"\" select count(*) from default.dates \"\"\").show()"
      ],
      "metadata": {
        "id": "F4Irb9f3j8Zv",
        "colab": {
          "base_uri": "https://localhost:8080/"
        },
        "outputId": "89d24e7f-ac4a-4157-bb1a-c7ae8e7ca3ec"
      },
      "execution_count": null,
      "outputs": [
        {
          "output_type": "stream",
          "name": "stdout",
          "text": [
            "+--------+\n",
            "|count(1)|\n",
            "+--------+\n",
            "|     118|\n",
            "+--------+\n",
            "\n"
          ]
        }
      ]
    },
    {
      "cell_type": "markdown",
      "source": [
        "#### products table\n",
        "create a delta table default.products with the following schema (productid: string, unitprice: double, category: string, subcategory: string, size: string, color: string,\n",
        " brand: string) by extracting data from `originalSales.csv`"
      ],
      "metadata": {
        "id": "YoJklk1pox8F"
      }
    },
    {
      "cell_type": "code",
      "source": [
        "products = df.select('productid','unitprice','category','subcategory', 'size', 'color', 'brand')\n",
        "products.show(5)"
      ],
      "metadata": {
        "colab": {
          "base_uri": "https://localhost:8080/"
        },
        "id": "acun9gdWE6Q8",
        "outputId": "07199676-5c94-479e-b714-d43603b99754"
      },
      "execution_count": null,
      "outputs": [
        {
          "output_type": "stream",
          "name": "stdout",
          "text": [
            "+---------+---------+---------+-----------+------+-----+-----+\n",
            "|productid|unitprice| category|subcategory|  size|color|brand|\n",
            "+---------+---------+---------+-----------+------+-----+-----+\n",
            "|    CHA_2|     60.0|Furniture|      Chair|  null| blue|Basic|\n",
            "|    BED_3|    150.0|Furniture|        Bed|Single|  red| Mega|\n",
            "|    BED_4|    300.0|Furniture|        Bed|Double|brown|Basic|\n",
            "|    BED_5|    395.0|Furniture|        Bed| Queen|black| Mega|\n",
            "|    BED_6|    440.0|Furniture|        Bed|  King|white|Basic|\n",
            "+---------+---------+---------+-----------+------+-----+-----+\n",
            "only showing top 5 rows\n",
            "\n"
          ]
        }
      ]
    },
    {
      "cell_type": "code",
      "source": [
        "DeltaTable.createOrReplace(spark) \\\n",
        "  .tableName(\"default.products\") \\\n",
        "  .addColumn(\"productid\", \"STRING\") \\\n",
        "  .addColumn(\"unitprice\", \"DOUBLE\") \\\n",
        "  .addColumn(\"category\", \"STRING\") \\\n",
        "  .addColumn(\"subcategory\", \"STRING\") \\\n",
        "  .addColumn(\"size\", \"STRING\") \\\n",
        "  .addColumn(\"color\", \"STRING\") \\\n",
        "  .addColumn(\"brand\", \"STRING\") \\\n",
        "  .execute()"
      ],
      "metadata": {
        "colab": {
          "base_uri": "https://localhost:8080/"
        },
        "id": "8GH65oFZJ0yl",
        "outputId": "81bec626-0a24-4476-f112-65ee38fb2282"
      },
      "execution_count": null,
      "outputs": [
        {
          "output_type": "execute_result",
          "data": {
            "text/plain": [
              "<delta.tables.DeltaTable at 0x7ca2ffdc6050>"
            ]
          },
          "metadata": {},
          "execution_count": 25
        }
      ]
    },
    {
      "cell_type": "code",
      "source": [
        "spark.sql(\"\"\" DESCRIBE default.products \"\"\").show()"
      ],
      "metadata": {
        "colab": {
          "base_uri": "https://localhost:8080/"
        },
        "id": "lGcVuUD2KqYH",
        "outputId": "412cec31-46c8-4f8f-c42b-c7da5a6ee825"
      },
      "execution_count": null,
      "outputs": [
        {
          "output_type": "stream",
          "name": "stdout",
          "text": [
            "+-----------+---------+-------+\n",
            "|   col_name|data_type|comment|\n",
            "+-----------+---------+-------+\n",
            "|  productid|   string|   null|\n",
            "|  unitprice|   double|   null|\n",
            "|   category|   string|   null|\n",
            "|subcategory|   string|   null|\n",
            "|       size|   string|   null|\n",
            "|      color|   string|   null|\n",
            "|      brand|   string|   null|\n",
            "+-----------+---------+-------+\n",
            "\n"
          ]
        }
      ]
    },
    {
      "cell_type": "code",
      "source": [
        "products\\\n",
        ".write\\\n",
        ".mode(\"overwrite\") \\\n",
        ".format(\"delta\")\\\n",
        ".saveAsTable(\"default.products\")"
      ],
      "metadata": {
        "id": "ZAeKKfWCo7m5"
      },
      "execution_count": null,
      "outputs": []
    },
    {
      "cell_type": "code",
      "source": [
        "spark.sql(\"\"\" select * from default.products limit 10 \"\"\").show()"
      ],
      "metadata": {
        "id": "Z36bS-NLqVGZ",
        "colab": {
          "base_uri": "https://localhost:8080/"
        },
        "outputId": "c90a2f6c-493d-4b15-9d31-991280d41ae2"
      },
      "execution_count": null,
      "outputs": [
        {
          "output_type": "stream",
          "name": "stdout",
          "text": [
            "+---------+---------+---------+-----------+------+-----+--------+\n",
            "|productid|unitprice| category|subcategory|  size|color|   brand|\n",
            "+---------+---------+---------+-----------+------+-----+--------+\n",
            "|    CHA_2|     60.0|Furniture|      Chair|  null| blue|   Basic|\n",
            "|    BED_3|    150.0|Furniture|        Bed|Single|  red|    Mega|\n",
            "|    BED_4|    300.0|Furniture|        Bed|Double|brown|   Basic|\n",
            "|    BED_5|    395.0|Furniture|        Bed| Queen|black|    Mega|\n",
            "|    BED_6|    440.0|Furniture|        Bed|  King|white|   Basic|\n",
            "|    TSH_7|     20.0|    Cloth|     Tshirt|    XS| blue|NewBrand|\n",
            "|    TSH_8|     20.0|    Cloth|     Tshirt|     S|  red|   Basic|\n",
            "|    TSH_9|     22.0|    Cloth|     Tshirt|     M|brown|    Mega|\n",
            "|   TSH_10|     24.0|    Cloth|     Tshirt|     L|black|    Over|\n",
            "|   TSH_11|     24.0|    Cloth|     Tshirt|    XL|white|NewBrand|\n",
            "+---------+---------+---------+-----------+------+-----+--------+\n",
            "\n"
          ]
        }
      ]
    },
    {
      "cell_type": "markdown",
      "source": [
        "### Delta operation\n"
      ],
      "metadata": {
        "id": "3oyZ9ZRvr-2N"
      }
    },
    {
      "cell_type": "markdown",
      "source": [
        "#### Q1\n",
        "Using the dataframe `newsales`, either add a new sales in case it does not exist otherwise add up the quantities of the existing sold item."
      ],
      "metadata": {
        "id": "BL5-Ng5nBC2S"
      }
    },
    {
      "cell_type": "code",
      "source": [
        "newsales = spark.read.csv('/tmp/sales/march23_sales.csv', header=True, inferSchema=True)\\\n",
        "          .withColumn('saledate',col(\"saledate\").cast(\"TIMESTAMP\"))\\\n",
        "          .withColumn('quantity', col(\"quantity\").cast(\"int\") )\\\n",
        "          .select('saleid','saledate','productid','quantity','shopid')\n",
        "newsales.count()\n"
      ],
      "metadata": {
        "id": "Qp87zO9YlU8T",
        "colab": {
          "base_uri": "https://localhost:8080/"
        },
        "outputId": "a847139b-3669-43a2-ef51-5f49a1095034"
      },
      "execution_count": null,
      "outputs": [
        {
          "output_type": "execute_result",
          "data": {
            "text/plain": [
              "84"
            ]
          },
          "metadata": {},
          "execution_count": 29
        }
      ]
    },
    {
      "cell_type": "code",
      "source": [
        "newsales.show(6)"
      ],
      "metadata": {
        "colab": {
          "base_uri": "https://localhost:8080/"
        },
        "id": "aZyjYpEuQwng",
        "outputId": "c055a8fe-1323-41f1-df19-7afeae6d6cec"
      },
      "execution_count": null,
      "outputs": [
        {
          "output_type": "stream",
          "name": "stdout",
          "text": [
            "+----------+-------------------+---------+--------+------+\n",
            "|    saleid|           saledate|productid|quantity|shopid|\n",
            "+----------+-------------------+---------+--------+------+\n",
            "|S000000000|2023-03-02 00:00:00|    TAB_0|       1|shop_0|\n",
            "|S000000001|2023-03-01 00:00:00|    TAB_1|       1|shop_1|\n",
            "|S000000120|2023-03-02 00:00:00|   SHO_59|       1|shop_0|\n",
            "|S000000121|2023-03-01 00:00:00|   SHO_60|       3|shop_1|\n",
            "|S000000240|2023-03-02 00:00:00|   SHO_57|       2|shop_0|\n",
            "|S000000241|2023-03-01 00:00:00|   SHO_58|       2|shop_1|\n",
            "+----------+-------------------+---------+--------+------+\n",
            "only showing top 6 rows\n",
            "\n"
          ]
        }
      ]
    },
    {
      "cell_type": "code",
      "source": [
        "default_sales_delta = DeltaTable.forName(spark,'default.sales')"
      ],
      "metadata": {
        "id": "DL7gukfuM2iM"
      },
      "execution_count": null,
      "outputs": []
    },
    {
      "cell_type": "code",
      "source": [
        "default_sales_delta.alias(\"oldSales\") \\\n",
        "  .merge(\n",
        "    newsales.alias(\"newSales\"),\n",
        "    \"oldSales.saleid = newSales.saleid\") \\\n",
        "  .whenMatchedUpdate(set = { \"quantity\": col(\"oldSales.quantity\") + col(\"newSales.quantity\")  }) \\\n",
        "  .whenNotMatchedInsertAll() \\\n",
        "  .execute()\n"
      ],
      "metadata": {
        "id": "HflW_5jqBHQ5"
      },
      "execution_count": null,
      "outputs": []
    },
    {
      "cell_type": "markdown",
      "source": [
        "Verification"
      ],
      "metadata": {
        "id": "jFSJOi6lDddG"
      }
    },
    {
      "cell_type": "code",
      "source": [
        "spark.sql(\"\"\" select count(*) from default.sales \"\"\").show()"
      ],
      "metadata": {
        "id": "kSqrB1iwDcEG",
        "colab": {
          "base_uri": "https://localhost:8080/"
        },
        "outputId": "32779430-34a3-4c5e-c0f6-545209b24c5e"
      },
      "execution_count": null,
      "outputs": [
        {
          "output_type": "stream",
          "name": "stdout",
          "text": [
            "+--------+\n",
            "|count(1)|\n",
            "+--------+\n",
            "|    5000|\n",
            "+--------+\n",
            "\n"
          ]
        }
      ]
    },
    {
      "cell_type": "code",
      "source": [
        "history_sales = spark.sql(\"\"\"DESCRIBE HISTORY default.sales\"\"\")"
      ],
      "metadata": {
        "id": "onIOtPP0WVE7"
      },
      "execution_count": null,
      "outputs": []
    },
    {
      "cell_type": "code",
      "source": [
        "history_sales.select(\"version\",\"operation\",\"operationMetrics\").show(truncate=False)"
      ],
      "metadata": {
        "colab": {
          "base_uri": "https://localhost:8080/"
        },
        "id": "xYMAA7adWW87",
        "outputId": "62a339b0-140d-46f4-bfd1-3e41e7a80cbc"
      },
      "execution_count": null,
      "outputs": [
        {
          "output_type": "stream",
          "name": "stdout",
          "text": [
            "+-------+---------------------------------+----------------------------------------------------------------------------------------------------------------------------------------------------------------------------------------------------------------------------------------------------------------------------------------------------------------------------------------------------------------------------------------------------------------------------------------------------------------------------------------------------------------------------------------+\n",
            "|version|operation                        |operationMetrics                                                                                                                                                                                                                                                                                                                                                                                                                                                                                                                        |\n",
            "+-------+---------------------------------+----------------------------------------------------------------------------------------------------------------------------------------------------------------------------------------------------------------------------------------------------------------------------------------------------------------------------------------------------------------------------------------------------------------------------------------------------------------------------------------------------------------------------------------+\n",
            "|2      |MERGE                            |{numTargetRowsCopied -> 0, numTargetRowsDeleted -> 0, numTargetFilesAdded -> 1, numTargetBytesAdded -> 2505, numTargetBytesRemoved -> 0, numTargetRowsMatchedUpdated -> 0, executionTimeMs -> 4591, numTargetRowsInserted -> 84, numTargetRowsMatchedDeleted -> 0, scanTimeMs -> 2793, numTargetRowsUpdated -> 0, numOutputRows -> 84, numTargetRowsNotMatchedBySourceUpdated -> 0, numTargetChangeFilesAdded -> 0, numSourceRows -> 84, numTargetFilesRemoved -> 0, numTargetRowsNotMatchedBySourceDeleted -> 0, rewriteTimeMs -> 1693}|\n",
            "|1      |CREATE OR REPLACE TABLE AS SELECT|{numFiles -> 1, numOutputRows -> 4916, numOutputBytes -> 29353}                                                                                                                                                                                                                                                                                                                                                                                                                                                                         |\n",
            "|0      |CREATE OR REPLACE TABLE          |{}                                                                                                                                                                                                                                                                                                                                                                                                                                                                                                                                      |\n",
            "+-------+---------------------------------+----------------------------------------------------------------------------------------------------------------------------------------------------------------------------------------------------------------------------------------------------------------------------------------------------------------------------------------------------------------------------------------------------------------------------------------------------------------------------------------------------------------------------------------+\n",
            "\n"
          ]
        }
      ]
    },
    {
      "cell_type": "markdown",
      "source": [
        "How many tuples have been modified and how many have been inserted?\n",
        "\n",
        "Answer: 84 inserted\n"
      ],
      "metadata": {
        "id": "vSbbLT-Tq4ZP"
      }
    },
    {
      "cell_type": "markdown",
      "source": [
        "#### Q2\n",
        "apply a 10% increase of the `unitprice` of `defalut.products` of those products whose total sold quantity exceeds 130, as per the `salesFact` table."
      ],
      "metadata": {
        "id": "sOzrJwktBIZK"
      }
    },
    {
      "cell_type": "code",
      "source": [
        "spark.sql(\"\"\" select sum(quantity) as quantity, productid from default.sales group by productid\"\"\").show(5)"
      ],
      "metadata": {
        "colab": {
          "base_uri": "https://localhost:8080/"
        },
        "id": "CvPGkVfwkA96",
        "outputId": "ed318276-bdea-42f3-dcb5-381ccd5e1b72"
      },
      "execution_count": null,
      "outputs": [
        {
          "output_type": "stream",
          "name": "stdout",
          "text": [
            "+--------+---------+\n",
            "|quantity|productid|\n",
            "+--------+---------+\n",
            "|     135|   HOO_54|\n",
            "|     130|   HOO_13|\n",
            "|     130|   BED_48|\n",
            "|     132|   TAB_43|\n",
            "|     135|   TSH_49|\n",
            "+--------+---------+\n",
            "only showing top 5 rows\n",
            "\n"
          ]
        }
      ]
    },
    {
      "cell_type": "code",
      "source": [
        "# Define\n",
        "products_delta = DeltaTable.forName(spark, \"default.products\")\n",
        "salesFact = spark.sql(\"\"\" select sum(quantity) as quantity, productid from default.sales group by productid\"\"\")\n",
        "merge_condition = \"sales.productid = products.productid and sales.quantity > 130\"\n",
        "update_expression = { \"unitprice\": expr(\"unitprice * 1.1\") }\n",
        "\n",
        "\n",
        "# merge statement\n",
        "products_delta.alias(\"products\") \\\n",
        "  .merge(\n",
        "    salesFact.alias(\"sales\"), merge_condition ) \\\n",
        "  .whenMatchedUpdate(set = update_expression) \\\n",
        "  .execute()\n"
      ],
      "metadata": {
        "id": "6ntkyKhbcUJn"
      },
      "execution_count": null,
      "outputs": []
    },
    {
      "cell_type": "code",
      "source": [
        "history_products = spark.sql(\"\"\"DESCRIBE HISTORY default.products\"\"\")\n",
        "history_products.select(\"version\",\"operation\",\"operationMetrics\").show(truncate=False)"
      ],
      "metadata": {
        "colab": {
          "base_uri": "https://localhost:8080/"
        },
        "id": "MIC72PTedcgE",
        "outputId": "0a14a834-a6fc-41d8-d9a2-b70477df2ec2"
      },
      "execution_count": null,
      "outputs": [
        {
          "output_type": "stream",
          "name": "stdout",
          "text": [
            "+-------+---------------------------------+----------------------------------------------------------------------------------------------------------------------------------------------------------------------------------------------------------------------------------------------------------------------------------------------------------------------------------------------------------------------------------------------------------------------------------------------------------------------------------------------------------------------------------------------------+\n",
            "|version|operation                        |operationMetrics                                                                                                                                                                                                                                                                                                                                                                                                                                                                                                                                    |\n",
            "+-------+---------------------------------+----------------------------------------------------------------------------------------------------------------------------------------------------------------------------------------------------------------------------------------------------------------------------------------------------------------------------------------------------------------------------------------------------------------------------------------------------------------------------------------------------------------------------------------------------+\n",
            "|2      |MERGE                            |{numTargetRowsCopied -> 805, numTargetRowsDeleted -> 0, numTargetFilesAdded -> 1, numTargetBytesAdded -> 6191, numTargetBytesRemoved -> 5961, numTargetRowsMatchedUpdated -> 4111, executionTimeMs -> 4716, numTargetRowsInserted -> 0, numTargetRowsMatchedDeleted -> 0, scanTimeMs -> 2179, numTargetRowsUpdated -> 4111, numOutputRows -> 4916, numTargetRowsNotMatchedBySourceUpdated -> 0, numTargetChangeFilesAdded -> 0, numSourceRows -> 61, numTargetFilesRemoved -> 1, numTargetRowsNotMatchedBySourceDeleted -> 0, rewriteTimeMs -> 1225}|\n",
            "|1      |CREATE OR REPLACE TABLE AS SELECT|{numFiles -> 1, numOutputRows -> 4916, numOutputBytes -> 5961}                                                                                                                                                                                                                                                                                                                                                                                                                                                                                      |\n",
            "|0      |CREATE OR REPLACE TABLE          |{}                                                                                                                                                                                                                                                                                                                                                                                                                                                                                                                                                  |\n",
            "+-------+---------------------------------+----------------------------------------------------------------------------------------------------------------------------------------------------------------------------------------------------------------------------------------------------------------------------------------------------------------------------------------------------------------------------------------------------------------------------------------------------------------------------------------------------------------------------------------------------+\n",
            "\n"
          ]
        }
      ]
    },
    {
      "cell_type": "markdown",
      "source": [
        "How many tuples have been modified?\n",
        "\n",
        "Answer: 4111"
      ],
      "metadata": {
        "id": "zGapr_nFrhtZ"
      }
    },
    {
      "cell_type": "markdown",
      "source": [
        "#### Q3\n",
        "Delete from `default.sales` sales older than 2 months as per March 1st 2023"
      ],
      "metadata": {
        "id": "CxmLokezBSSy"
      }
    },
    {
      "cell_type": "code",
      "source": [
        "default_sales_delta.delete(condition = expr(\"saledate < '2023-03-01 00:00:00' \"))\n"
      ],
      "metadata": {
        "id": "54ZReMB8BRvT"
      },
      "execution_count": null,
      "outputs": []
    },
    {
      "cell_type": "code",
      "source": [
        "history_sales = spark.sql(\"\"\"DESCRIBE HISTORY default.sales\"\"\")\n",
        "history_sales.select(\"version\",\"operation\",\"operationMetrics\").show(truncate=False)"
      ],
      "metadata": {
        "colab": {
          "base_uri": "https://localhost:8080/"
        },
        "id": "LUhXop1aeGry",
        "outputId": "00a3c3a8-d628-401d-cd90-e85b9276e79a"
      },
      "execution_count": null,
      "outputs": [
        {
          "output_type": "stream",
          "name": "stdout",
          "text": [
            "+-------+---------------------------------+----------------------------------------------------------------------------------------------------------------------------------------------------------------------------------------------------------------------------------------------------------------------------------------------------------------------------------------------------------------------------------------------------------------------------------------------------------------------------------------------------------------------------------------+\n",
            "|version|operation                        |operationMetrics                                                                                                                                                                                                                                                                                                                                                                                                                                                                                                                        |\n",
            "+-------+---------------------------------+----------------------------------------------------------------------------------------------------------------------------------------------------------------------------------------------------------------------------------------------------------------------------------------------------------------------------------------------------------------------------------------------------------------------------------------------------------------------------------------------------------------------------------------+\n",
            "|3      |DELETE                           |{numRemovedFiles -> 1, numRemovedBytes -> 29353, numCopiedRows -> 0, numAddedChangeFiles -> 0, executionTimeMs -> 2277, numDeletedRows -> 4916, scanTimeMs -> 1959, numAddedFiles -> 0, numAddedBytes -> 0, rewriteTimeMs -> 317}                                                                                                                                                                                                                                                                                                       |\n",
            "|2      |MERGE                            |{numTargetRowsCopied -> 0, numTargetRowsDeleted -> 0, numTargetFilesAdded -> 1, numTargetBytesAdded -> 2505, numTargetBytesRemoved -> 0, numTargetRowsMatchedUpdated -> 0, executionTimeMs -> 4591, numTargetRowsInserted -> 84, numTargetRowsMatchedDeleted -> 0, scanTimeMs -> 2793, numTargetRowsUpdated -> 0, numOutputRows -> 84, numTargetRowsNotMatchedBySourceUpdated -> 0, numTargetChangeFilesAdded -> 0, numSourceRows -> 84, numTargetFilesRemoved -> 0, numTargetRowsNotMatchedBySourceDeleted -> 0, rewriteTimeMs -> 1693}|\n",
            "|1      |CREATE OR REPLACE TABLE AS SELECT|{numFiles -> 1, numOutputRows -> 4916, numOutputBytes -> 29353}                                                                                                                                                                                                                                                                                                                                                                                                                                                                         |\n",
            "|0      |CREATE OR REPLACE TABLE          |{}                                                                                                                                                                                                                                                                                                                                                                                                                                                                                                                                      |\n",
            "+-------+---------------------------------+----------------------------------------------------------------------------------------------------------------------------------------------------------------------------------------------------------------------------------------------------------------------------------------------------------------------------------------------------------------------------------------------------------------------------------------------------------------------------------------------------------------------------------------+\n",
            "\n"
          ]
        }
      ]
    },
    {
      "cell_type": "markdown",
      "source": [
        "How many tuples have been deleted?\n",
        "\n",
        "Answer: 4916"
      ],
      "metadata": {
        "id": "bvoaQsDfrmuS"
      }
    }
  ]
}